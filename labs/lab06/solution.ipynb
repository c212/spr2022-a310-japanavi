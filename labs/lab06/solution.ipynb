{
 "cells": [
  {
   "cell_type": "markdown",
   "metadata": {},
   "source": [
    "# Running random Simulations in NumPy\n",
    "\n",
    "## This section covers \n",
    "* Basics of NumPy\n",
    "* Simulating observables using NumPy\n",
    "* Visualizing said obserables\n",
    "* Estimating unknown probabilites from simulations\n",
    "\n",
    "### Simulating random coin flips and die rolls using NumPy"
   ]
  },
  {
   "cell_type": "code",
   "execution_count": null,
   "metadata": {},
   "outputs": [],
   "source": [
    "# If import error run: pip install numpy\n",
    "import numpy as np"
   ]
  },
  {
   "cell_type": "markdown",
   "metadata": {},
   "source": [
    "### Simulating a dice roll using `numpy`"
   ]
  },
  {
   "cell_type": "code",
   "execution_count": 9,
   "metadata": {},
   "outputs": [],
   "source": [
    "die_roll = np.random.randint(1, 7)\n",
    "\n",
    "# Ensures dice roll is between 1 and 6\n",
    "assert 1 <= die_roll <= 6"
   ]
  },
  {
   "cell_type": "markdown",
   "metadata": {},
   "source": [
    "### Seeding reproducible random die rolls"
   ]
  },
  {
   "cell_type": "code",
   "execution_count": 14,
   "metadata": {},
   "outputs": [],
   "source": [
    "# Setting seed for reproducability\n",
    "np.random.seed(0)\n",
    "\n",
    "# Multiple dice rolls\n",
    "die_rolls = [np.random.randint(1, 7) for _ in range(3)]\n",
    "assert die_rolls == [5, 6, 1]"
   ]
  },
  {
   "cell_type": "markdown",
   "metadata": {},
   "source": [
    "### Simulating one fair coin flip"
   ]
  },
  {
   "cell_type": "code",
   "execution_count": 16,
   "metadata": {},
   "outputs": [
    {
     "name": "stdout",
     "output_type": "stream",
     "text": [
      "Result: T\n"
     ]
    }
   ],
   "source": [
    "np.random.seed(0)\n",
    "coin_flip = np.random.randint(0, 2) # O or 1\n",
    "\n",
    "# Printing result of coin_flip\n",
    "print(f\"Result: {'H' if coin_flip == 1 else 'T'}\")"
   ]
  },
  {
   "cell_type": "markdown",
   "metadata": {},
   "source": [
    "### Simulating 10 fair coin flips\n",
    "\n",
    "We calculate the frequency of heads with the following equation:\n",
    "\n",
    "$$f(H) = \\frac{\\sum \\text{\\# of H}}{N}, N \\equiv \\text{Total number of coin flips}$$"
   ]
  },
  {
   "cell_type": "code",
   "execution_count": 20,
   "metadata": {},
   "outputs": [
    {
     "name": "stdout",
     "output_type": "stream",
     "text": [
      "Frequency of Heads is 0.8\n"
     ]
    }
   ],
   "source": [
    "np.random.seed(0)\n",
    "\n",
    "def frequency_heads(coin_flip_sequence: list) -> float:\n",
    "    # Finds total number of heads (slow way)\n",
    "    # total_h = len([head for head in coin_flip_sequence if head == 1])\n",
    "\n",
    "    # Finds total number of heads (fast way)\n",
    "    # Since H = 1 and T = 0, the number of H is simply the sum\n",
    "    # This is more efficient than the calculation above, i.e. no comparisions\n",
    "    total_h = sum(coin_flip_sequence)\n",
    "\n",
    "    # Total number of coin flips\n",
    "    N = len(coin_flip_sequence)\n",
    "\n",
    "    return total_h / N\n",
    "\n",
    "coin_flips = [np.random.randint(0, 2) for _ in range(10)]\n",
    "freq_heads = frequency_heads(coin_flips)\n",
    "print(f\"Frequency of Heads is {freq_heads}\")"
   ]
  },
  {
   "cell_type": "markdown",
   "metadata": {},
   "source": [
    "### Plotting frequencies"
   ]
  },
  {
   "cell_type": "code",
   "execution_count": 23,
   "metadata": {},
   "outputs": [
    {
     "data": {
      "image/png": "[encoded data removed]",
      "text/plain": [
       "<Figure size 432x288 with 1 Axes>"
      ]
     },
     "metadata": {
      "needs_background": "light"
     },
     "output_type": "display_data"
    }
   ],
   "source": [
    "import matplotlib.pyplot as plt\n",
    "\n",
    "np.random.seed(0)\n",
    "coin_flips = []\n",
    "frequencies = []\n",
    "\n",
    "for _ in range(1000):\n",
    "    coin_flips.append(np.random.randint(0, 2))\n",
    "    frequencies.append(frequency_heads(coin_flips))\n",
    "\n",
    "plt.plot(frequencies)\n",
    "plt.axhline(0.5, color='r')\n",
    "plt.xlabel(r\"$N$\")\n",
    "plt.ylabel(r\"$f(H)$\")\n",
    "plt.show();"
   ]
  },
  {
   "cell_type": "code",
   "execution_count": null,
   "metadata": {},
   "outputs": [],
   "source": []
  }
 ],
 "metadata": {
  "interpreter": {
   "hash": "40219e84fdad97f8d86d8654bf0e498381de271826a3b02803e1545d0e3b60eb"
  },
  "kernelspec": {
   "display_name": "Python 3.8.5 ('DS')",
   "language": "python",
   "name": "python3"
  },
  "language_info": {
   "codemirror_mode": {
    "name": "ipython",
    "version": 3
   },
   "file_extension": ".py",
   "mimetype": "text/x-python",
   "name": "python",
   "nbconvert_exporter": "python",
   "pygments_lexer": "ipython3",
   "version": "3.8.5"
  },
  "orig_nbformat": 4
 },
 "nbformat": 4,
 "nbformat_minor": 2
}
